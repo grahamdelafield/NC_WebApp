{
 "metadata": {
  "language_info": {
   "codemirror_mode": {
    "name": "ipython",
    "version": 3
   },
   "file_extension": ".py",
   "mimetype": "text/x-python",
   "name": "python",
   "nbconvert_exporter": "python",
   "pygments_lexer": "ipython3",
   "version": "3.8.1-final"
  },
  "orig_nbformat": 2,
  "kernelspec": {
   "name": "python_defaultSpec_1600456247260",
   "display_name": "Python 3.8.1 64-bit"
  }
 },
 "nbformat": 4,
 "nbformat_minor": 2,
 "cells": [
  {
   "cell_type": "code",
   "execution_count": 2,
   "metadata": {},
   "outputs": [],
   "source": [
    "import pandas as pd"
   ]
  },
  {
   "cell_type": "code",
   "execution_count": 9,
   "metadata": {
    "tags": []
   },
   "outputs": [
    {
     "output_type": "stream",
     "name": "stdout",
     "text": "log2FoldChange.0 log2FoldChange\npvalue.0 pvalue\nlog2FoldChange.1 log2FoldChange\npvalue.1 pvalue\nlog2FoldChange.2 log2FoldChange\npvalue.2 pvalue\nlog2FoldChange.3 log2FoldChange\npvalue.3 pvalue\nlog2FoldChange.4 log2FoldChange\npvalue.4 pvalue\nlog2FoldChange.5 log2FoldChange\npvalue.5 pvalue\n"
    },
    {
     "output_type": "display_data",
     "data": {
      "text/plain": "Accession                                                                                   A0A0B4J2D5\nGene name                                                                                       GATD3B\nDescription                                          Glutamine amidotransferase-like class 1 domain...\nIf ECM protein                                                                                       N\nECM category                                                                                         -\nIf significant among age groups (ANOVA, FDR 0.05)                                                    Y\nJ vs F log2 Fold Change                                                                      -0.496691\nJ vs F pvalue                                                                               0.00705238\nY vs F log2 Fold Change                                                                      -0.134851\nY vs F pvalue                                                                                 0.218959\nO vs F log2 Fold Change                                                                     -0.0330672\nO vs F pvalue                                                                                 0.819882\nY vs J log2 Fold Change                                                                       0.361839\nY vs J pvalue                                                                                0.0299531\nO vs J log2 Fold Change                                                                       0.463624\nO vs J pvalue                                                                                0.0205102\nO vs Y log2 Fold Change                                                                       0.101784\nO vs Y pvalue                                                                                 0.497904\nName: 0, dtype: object"
     },
     "metadata": {}
    }
   ],
   "source": [
    "df = pd.read_excel(r\"C:\\Users\\graha\\desktop\\Code\\Python\\NC_WebApp\\data\\Pancreas proteome data summary_for searching.xlsx\", skiprows=range(2))\n",
    "groups = {\n",
    "    '0':'J vs F',\n",
    "    '1':'Y vs F',\n",
    "    '2':'O vs F',\n",
    "    '3':'Y vs J',\n",
    "    '4':'O vs J',\n",
    "    '5':'O vs Y',\n",
    "}\n",
    "suffs = {\n",
    "    'pvalue':'pvalue',\n",
    "    'log2FoldChange': 'log2 Fold Change'\n",
    "}\n",
    "data = []\n",
    "for i in df.index:  \n",
    "    sub = df.iloc[i, :18]\n",
    "    columns = [c for c in sub.index]\n",
    "    columns[6] = columns[6]+'.0'\n",
    "    columns[7] = columns[7]+'.0'\n",
    "    for i, c in enumerate(columns):\n",
    "        if c[-2] == '.':\n",
    "            lookup = c[-1]\n",
    "            print(c, c[:-2])\n",
    "            name = groups[lookup]+' '+suffs[c[:-2]]\n",
    "            columns[i] = name\n",
    "    sub.index = columns\n",
    "    # print((sub.to_dict()))\n",
    "    # data.append(sub.to_dict())\n",
    "    display(sub)\n",
    "    break"
   ]
  },
  {
   "cell_type": "code",
   "execution_count": 8,
   "metadata": {},
   "outputs": [
    {
     "output_type": "execute_result",
     "data": {
      "text/plain": "Accession                                                                                   A0A0B4J2D5\nGene name                                                                                       GATD3B\nDescription                                          Glutamine amidotransferase-like class 1 domain...\nIf ECM protein                                                                                       N\nECM category                                                                                         -\nIf significant among age groups (ANOVA, FDR 0.05)                                                    Y\nlog2FoldChange                                                                               -0.496691\npvalue                                                                                      0.00705238\nlog2FoldChange.1                                                                             -0.134851\npvalue.1                                                                                      0.218959\nlog2FoldChange.2                                                                            -0.0330672\npvalue.2                                                                                      0.819882\nlog2FoldChange.3                                                                              0.361839\npvalue.3                                                                                     0.0299531\nlog2FoldChange.4                                                                              0.463624\npvalue.4                                                                                     0.0205102\nlog2FoldChange.5                                                                              0.101784\npvalue.5                                                                                      0.497904\nName: 0, dtype: object"
     },
     "metadata": {},
     "execution_count": 8
    }
   ],
   "source": [
    "sub"
   ]
  },
  {
   "cell_type": "code",
   "execution_count": 31,
   "metadata": {
    "tags": []
   },
   "outputs": [
    {
     "output_type": "stream",
     "name": "stdout",
     "text": "{'Accession': 'A0A0B4J2D5', 'Gene name': 'GATD3B', 'Description': 'Glutamine amidotransferase-like class 1 domain-containing protein 3B, mitochondrial ', 'If ECM protein': 'N', 'ECM category': '-', 'If significant among age groups (ANOVA, FDR 0.05)': 'Y', 'log2FoldChange': -0.4966907666666689, 'pvalue': 0.0070523761175243765, 'J vs F log2FoldChange': -0.1348514999999999, 'J vs F pvalue': 0.21895921044227834, 'Y vs F log2FoldChange': -0.033067166666665315, 'Y vs F pvalue': 0.8198824829166782, 'O vs F log2FoldChange': 0.361839266666669, 'O vs F pvalue': 0.029953142522152795, 'Y vs J log2FoldChange': 0.4636236000000036, 'Y vs J pvalue': 0.020510217238433243, 'O vs J log2FoldChange': 0.10178433333333459, 'O vs J pvalue': 0.4979043158918398}\n"
    }
   ],
   "source": [
    "for i, d in enumerate(data):\n",
    "    if i == 1:\n",
    "        break\n",
    "    print(d)"
   ]
  },
  {
   "cell_type": "code",
   "execution_count": 36,
   "metadata": {},
   "outputs": [],
   "source": [
    "to_dump = {'data':data}\n",
    "import json\n",
    "with open('table.txt', 'w') as f:\n",
    "    f.write(json.dumps(to_dump, indent=4))"
   ]
  },
  {
   "cell_type": "code",
   "execution_count": 25,
   "metadata": {
    "tags": []
   },
   "outputs": [
    {
     "output_type": "stream",
     "name": "stdout",
     "text": "log2FoldChange.0 log2FoldChange\npvalue.0 pvalue\nlog2FoldChange.1 log2FoldChange\npvalue.1 pvalue\nlog2FoldChange.2 log2FoldChange\npvalue.2 pvalue\nlog2FoldChange.3 log2FoldChange\npvalue.3 pvalue\nlog2FoldChange.4 log2FoldChange\npvalue.4 pvalue\nlog2FoldChange.5 log2FoldChange\npvalue.5 pvalue\n"
    }
   ],
   "source": [
    "df = pd.read_excel(r\"C:\\Users\\graha\\desktop\\Code\\Python\\NC_WebApp\\data\\Pancreas proteome data summary_for searching.xlsx\", skiprows=range(2))\n",
    "\n",
    "df = df.iloc[:, :18]\n",
    "columns = [c for c in df.columns]\n",
    "groups = {\n",
    "    '0':'J vs F',\n",
    "    '1':'Y vs F',\n",
    "    '2':'O vs F',\n",
    "    '3':'Y vs J',\n",
    "    '4':'O vs J',\n",
    "    '5':'O vs Y',\n",
    "}\n",
    "suffs = {\n",
    "    'pvalue':'pvalue',\n",
    "    'log2FoldChange': 'log2 Fold Change'\n",
    "}\n",
    "# columns = [c for c in df.columns]\n",
    "columns[3] = 'Is ECM protein'\n",
    "columns[5] = 'Significant among age groups (ANOVA, FDR 0.05)'\n",
    "columns[6] = columns[6]+'.0'\n",
    "columns[7] = columns[7]+'.0'\n",
    "for i, c in enumerate(columns):\n",
    "    if c[-2] == '.':\n",
    "        lookup = c[-1]\n",
    "        print(c, c[:-2])\n",
    "        name = groups[lookup]+' '+suffs[c[:-2]]\n",
    "        columns[i] = name\n",
    "df.columns = columns\n",
    "df = df.round(4)\n",
    "# df\n",
    "with open('large_table.html', 'w') as f:\n",
    "    f.write(df.to_html(index=False))"
   ]
  },
  {
   "cell_type": "code",
   "execution_count": null,
   "metadata": {},
   "outputs": [],
   "source": []
  }
 ]
}